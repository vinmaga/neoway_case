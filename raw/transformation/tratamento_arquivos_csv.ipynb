{
 "cells": [
  {
   "cell_type": "code",
   "execution_count": 1,
   "id": "174f39a6",
   "metadata": {},
   "outputs": [],
   "source": [
    "import pandas as pd"
   ]
  },
  {
   "cell_type": "code",
   "execution_count": 2,
   "id": "627efd9f",
   "metadata": {},
   "outputs": [],
   "source": [
    "# Definindo tipagem de principais colunas\n",
    "dict_type_cnpj = {\n",
    "    'cnpj':'str',\n",
    "    'endereco_cep':'str',\n",
    "    'cd_cnae_principal':'float',\n",
    "#     'optante_simples':'bool'\n",
    "}"
   ]
  },
  {
   "cell_type": "markdown",
   "id": "c589165c",
   "metadata": {},
   "source": [
    "## tratamento df_empresas"
   ]
  },
  {
   "cell_type": "code",
   "execution_count": 3,
   "id": "d77f9482",
   "metadata": {},
   "outputs": [],
   "source": [
    "# Lendo df\n",
    "df_empresas = pd.read_csv('../raw_data/df_empresas.csv',\n",
    "                          sep=';',dtype=dict_type_cnpj)"
   ]
  },
  {
   "cell_type": "code",
   "execution_count": 4,
   "id": "004b66e0",
   "metadata": {},
   "outputs": [],
   "source": [
    "# Renomeando coluna para manter padrão\n",
    "df_empresas.rename(columns={\n",
    "    'matriz.empresaMatriz':'empresa_matriz'\n",
    "},inplace=True)"
   ]
  },
  {
   "cell_type": "code",
   "execution_count": 5,
   "id": "82f0c471",
   "metadata": {},
   "outputs": [],
   "source": [
    "# Preenchendo valores vazios coluna cnae\n",
    "df_empresas['cd_cnae_principal'] = df_empresas['cd_cnae_principal'].fillna(0).astype(int)"
   ]
  },
  {
   "cell_type": "code",
   "execution_count": 6,
   "id": "38669392",
   "metadata": {},
   "outputs": [],
   "source": [
    "# Selecionando colunas específicas\n",
    "df_empresas_essencial = df_empresas[[\n",
    "    'cnpj', 'dt_abertura', 'empresa_matriz', 'cd_cnae_principal',\n",
    "    'endereco_cep', 'situacao_cadastral'\n",
    "]]"
   ]
  },
  {
   "cell_type": "code",
   "execution_count": 7,
   "id": "a0db888b",
   "metadata": {},
   "outputs": [],
   "source": [
    "# Carga em dbt/seed\n",
    "df_empresas_essencial.to_csv('../../neoway_case/seeds/empresas_geral.csv', index=False, sep=',')"
   ]
  },
  {
   "cell_type": "markdown",
   "id": "d6c1a030",
   "metadata": {},
   "source": [
    "#### Subdividr o dataframe original nas tabelas dimensão \n",
    "\n",
    "- dimensão CEP\n",
    "- dimensão CNAE"
   ]
  },
  {
   "cell_type": "code",
   "execution_count": 8,
   "id": "421a481a",
   "metadata": {},
   "outputs": [],
   "source": [
    "# dimensao cep\n",
    "df_ceps = df_empresas[[\n",
    "    'endereco_cep','endereco_municipio', 'endereco_uf', \n",
    "    'endereco_regiao','endereco_mesorregiao',\n",
    "]]\n",
    "\n",
    "# Drop de duplicatas\n",
    "df_ceps = df_ceps.drop_duplicates()\n",
    "\n",
    "# carga em dbt/seed\n",
    "df_ceps.to_csv('../../neoway_case/seeds/dim_ceps.csv', index=False, sep=',')"
   ]
  },
  {
   "cell_type": "code",
   "execution_count": 9,
   "id": "ea33ee98",
   "metadata": {},
   "outputs": [],
   "source": [
    "# dimesao CNAE\n",
    "df_cnaes = df_empresas[[\n",
    "    'cd_cnae_principal','de_cnae_principal',\n",
    "    'de_ramo_atividade', 'de_setor'\n",
    "]]\n",
    "\n",
    "# Tratamento básico em alguns valores com padrão distinto\n",
    "df_cnaes.loc[:, 'de_cnae_principal'] = df_cnaes['de_cnae_principal'].str.replace(r'\\s+DISPENSADA$', \n",
    "                                                                                 '', \n",
    "                                                                                 regex=True)\n",
    "\n",
    "# Drop de linhas duplicadas\n",
    "df_cnaes = df_cnaes.drop_duplicates()\n",
    "\n",
    "# Preenchendo valores NaN com uma descrição\n",
    "df_cnaes.loc[:, 'de_ramo_atividade'] = df_cnaes['de_ramo_atividade'].fillna('RAMO NAO INFORMADO')\n",
    "df_cnaes.loc[:, 'de_setor'] = df_cnaes['de_setor'].fillna('SETOR NAO INFORMADO')\n",
    "\n",
    "# carga em dbt/seed\n",
    "df_cnaes.to_csv('../../neoway_case/seeds/dim_cnaes.csv', index=False, sep=',')"
   ]
  },
  {
   "cell_type": "markdown",
   "id": "b9f3a281",
   "metadata": {},
   "source": [
    "## tratamento outros arquivos CSV"
   ]
  },
  {
   "cell_type": "code",
   "execution_count": 10,
   "id": "62f67aa4",
   "metadata": {},
   "outputs": [],
   "source": [
    "# Lendo os arquivos brutos\n",
    "df_empresas_nivel_atividade = pd.read_csv('../raw_data/empresas_nivel_atividade.csv',\n",
    "                                          sep=';',dtype=dict_type_cnpj)\n",
    "df_empresas_porte = pd.read_csv('../raw_data/empresas_porte.csv',\n",
    "                                sep=';',dtype=dict_type_cnpj)\n",
    "df_empresas_saude_tributaria = pd.read_csv('../raw_data/empresas_saude_tributaria.csv',\n",
    "                                           sep=';',dtype=dict_type_cnpj)\n",
    "df_empresas_simples = pd.read_csv('../raw_data/empresas_simples.csv',\n",
    "                                  sep=';',dtype=dict_type_cnpj)"
   ]
  },
  {
   "cell_type": "code",
   "execution_count": 11,
   "id": "e5e77434",
   "metadata": {},
   "outputs": [],
   "source": [
    "# Convertendo valores das colunas optantes_simples e optante_simei de bool para str\n",
    "df_empresas_simples['optante_simples'] = df_empresas_simples['optante_simples'].map({True: 'Sim', False: 'Não'})\n",
    "df_empresas_simples['optante_simei'] = df_empresas_simples['optante_simei'].map({True: 'Sim', False: 'Não'})\n",
    "\n",
    "# Preenchendo valores vazios das colunas optante_simples e optante_simei\n",
    "df_empresas_simples.optante_simples = df_empresas_simples.optante_simples.fillna('Não informado')\n",
    "df_empresas_simples.optante_simei = df_empresas_simples.optante_simei.fillna('Não informado')"
   ]
  },
  {
   "cell_type": "code",
   "execution_count": 12,
   "id": "9291f5a8",
   "metadata": {},
   "outputs": [],
   "source": [
    "# Drop de CNPJs que não possuem informações de nivel_atividade e saude_tributaria para reduzir tamanho\n",
    "df_empresas_nivel_atividade = df_empresas_nivel_atividade.dropna(subset='nivel_atividade')\n",
    "df_empresas_saude_tributaria = df_empresas_saude_tributaria.dropna(subset='saude_tributaria')"
   ]
  },
  {
   "cell_type": "code",
   "execution_count": 13,
   "id": "3b399af8",
   "metadata": {},
   "outputs": [],
   "source": [
    "# carga em dbt/seed\n",
    "df_empresas_nivel_atividade.to_csv('../../neoway_case/seeds/empresas_nivel_atividade.csv',index=False,sep=',')\n",
    "df_empresas_porte.to_csv('../../neoway_case/seeds/empresas_porte.csv',index=False,sep=',')\n",
    "df_empresas_saude_tributaria.to_csv('../../neoway_case/seeds/empresas_saude_tributaria.csv',index=False,sep=',')\n",
    "df_empresas_simples.to_csv('../../neoway_case/seeds/empresas_simples.csv',index=False,sep=',')"
   ]
  }
 ],
 "metadata": {
  "hide_input": false,
  "kernelspec": {
   "display_name": "Python 3 (ipykernel)",
   "language": "python",
   "name": "python3"
  },
  "language_info": {
   "codemirror_mode": {
    "name": "ipython",
    "version": 3
   },
   "file_extension": ".py",
   "mimetype": "text/x-python",
   "name": "python",
   "nbconvert_exporter": "python",
   "pygments_lexer": "ipython3",
   "version": "3.10.12"
  }
 },
 "nbformat": 4,
 "nbformat_minor": 5
}
