{
 "cells": [
  {
   "cell_type": "code",
   "execution_count": 1,
   "id": "97cdf726",
   "metadata": {},
   "outputs": [],
   "source": [
    "# importando bibliotecas necessárias\n",
    "import pandas as pd\n",
    "import requests\n",
    "import hashlib\n",
    "import re\n",
    "\n",
    "# importando funções de limpeza e transformação \n",
    "from cnj_dados import cnj_dados, encontrar_maior_cod_item_pai\n",
    "from harmonizacao_str import limpar_assunto, remover_acentos_e_maiusculo,identificar_cidade,limpar_nome_municipio,identificar_capital\n",
    "from preenche_codigos_cnj import preencher_codigos, preencher_codigos_hierarquicos"
   ]
  },
  {
   "cell_type": "code",
   "execution_count": 2,
   "id": "dbfdfd66",
   "metadata": {},
   "outputs": [
    {
     "data": {
      "text/plain": [
       "(20000, 18)"
      ]
     },
     "execution_count": 2,
     "metadata": {},
     "output_type": "execute_result"
    }
   ],
   "source": [
    "# Definindo tipagem para principais colunas\n",
    "dict_type_cnpj = {\n",
    "    'cnpj':'str'\n",
    "}\n",
    "\n",
    "# Lendo json em dataframe para manipulação dos dados\n",
    "df_bq_results = pd.read_json('../raw_data/bq-results-20240515-184938-1715799987947.json',\n",
    "                             lines=True,dtype=dict_type_cnpj)\n",
    "df_bq_results.shape"
   ]
  },
  {
   "cell_type": "markdown",
   "id": "61892d6f",
   "metadata": {},
   "source": [
    "Primeiros tratamentos no dataframe"
   ]
  },
  {
   "cell_type": "code",
   "execution_count": 3,
   "id": "3e515190",
   "metadata": {},
   "outputs": [],
   "source": [
    "# Adicionando zeros à esquerda para normalizar todos os CNPJs para 14 caracteres\n",
    "df_bq_results['cnpj'] = df_bq_results['cnpj'].str.zfill(14)"
   ]
  },
  {
   "cell_type": "code",
   "execution_count": 4,
   "id": "04545b8d",
   "metadata": {},
   "outputs": [],
   "source": [
    "# Renomeando colunas para manter o padrao snake case dos demais arquivos\n",
    "df_bq_results.rename(columns={\n",
    "    'grauProcesso':'grau_processo', \n",
    "    'dataDecisao':'data_decisao',\n",
    "    'dataEncerramento':'data_encerramento', \n",
    "    'ultimoEstado':'ultimo_estado', \n",
    "    'orgaoJulgador':'orgao_julgador',\n",
    "    'citacaoTipo':'citacao_tipo', \n",
    "    'unidadeOrigem':'municipio',\n",
    "    'assuntosCNJ':'assuntos_cnj',\n",
    "    'valorCausa':'valor_causa', \n",
    "    'valorPredicaoCondenacao':'valor_predicao_condenacao'\n",
    "},inplace=True)"
   ]
  },
  {
   "cell_type": "code",
   "execution_count": 5,
   "id": "f9d558e8",
   "metadata": {},
   "outputs": [],
   "source": [
    "# Função para contar tamanho do dicionario contido nas colunas\n",
    "def count_len_neoway(col):\n",
    "    return len(col) if col else 0\n",
    "\n",
    "# Aplicando função às colunas que possuem dict\n",
    "df_bq_results['contagem_partes'] = df_bq_results['partes'].apply(count_len_neoway)\n",
    "df_bq_results['contagem_assuntos_cnj'] = df_bq_results['assuntos_cnj'].apply(count_len_neoway)"
   ]
  },
  {
   "cell_type": "code",
   "execution_count": 6,
   "id": "bea1e819",
   "metadata": {},
   "outputs": [],
   "source": [
    "# Dividindo a coluna 'data_decisao' em 'data' e 'hora'\n",
    "df_bq_results[['dt_data_decisao', 'hora_decisao']] = df_bq_results['data_decisao'].str.split('T', expand=True)\n",
    "# Removendo 'Z' da coluna 'hora' para obter apenas o tempo\n",
    "df_bq_results['hora_decisao'] = df_bq_results['hora_decisao'].str.replace('Z', '')\n",
    "\n",
    "# Dividindo a coluna 'data_encerramento' em 'data' e 'hora'\n",
    "df_bq_results[['dt_data_encerramento', 'hora_encerramento']] = df_bq_results['data_encerramento'].str.split('T', expand=True)\n",
    "# Removendo 'Z' da coluna 'hora' para obter apenas o tempo\n",
    "df_bq_results['hora_encerramento'] = df_bq_results['hora_encerramento'].str.replace('Z', '')"
   ]
  },
  {
   "cell_type": "code",
   "execution_count": 7,
   "id": "7e01c07b",
   "metadata": {},
   "outputs": [],
   "source": [
    "# expandido orgao em colunas\n",
    "df_bq_results[['orgao_julgador_orgao', 'orgao_julgador_vara', 'orgao_julgador_uf']] = df_bq_results['orgao_julgador'].str.split(' - ', expand=True, n=2)"
   ]
  },
  {
   "cell_type": "code",
   "execution_count": 8,
   "id": "3364ad3f",
   "metadata": {},
   "outputs": [],
   "source": [
    "# drop de colunas desnecessárias (as que foram tratadas acima e as redundantes)\n",
    "df_bq_results.drop(columns=['comarca','orgao_julgador_vara',\n",
    "                            'orgao_julgador_uf','orgao_julgador',\n",
    "                           'data_decisao','data_encerramento'],\n",
    "                   inplace=True                  \n",
    "                  )"
   ]
  },
  {
   "cell_type": "code",
   "execution_count": 9,
   "id": "cd5ac804",
   "metadata": {},
   "outputs": [],
   "source": [
    "# drop de linhas duplicadas\n",
    "df_bq_results = df_bq_results.drop_duplicates(subset=['cnpj', 'area', 'grau_processo', 'julgamento', 'uf', 'tribunal',\n",
    "       'ultimo_estado', 'citacao_tipo', 'municipio', 'juiz', 'valor_causa', 'valor_predicao_condenacao', 'contagem_partes',\n",
    "       'contagem_assuntos_cnj', 'orgao_julgador_orgao', 'dt_data_decisao',\n",
    "       'hora_decisao', 'dt_data_encerramento', 'hora_encerramento'])"
   ]
  },
  {
   "cell_type": "code",
   "execution_count": 10,
   "id": "3ac8e2f1",
   "metadata": {},
   "outputs": [],
   "source": [
    "# Função para criar um ID único para cada processo\n",
    "def gerar_codigo_unico(linha):\n",
    "    texto = ''.join(linha.astype(str))\n",
    "    return hashlib.md5(texto.encode()).hexdigest()\n",
    "\n",
    "# Aplicando a função a cada linha do DataFrame\n",
    "df_bq_results['cd_processo'] = df_bq_results.apply(gerar_codigo_unico, axis=1)"
   ]
  },
  {
   "cell_type": "code",
   "execution_count": 11,
   "id": "20787826",
   "metadata": {},
   "outputs": [],
   "source": [
    "#reordenando colunas para id -> cd_processo ser a primeira\n",
    "df_bq_results = df_bq_results[['cd_processo','cnpj', 'area', 'grau_processo', 'julgamento', 'uf', 'tribunal',\n",
    "       'ultimo_estado', 'citacao_tipo', 'municipio', 'juiz', 'assuntos_cnj',\n",
    "       'partes', 'valor_causa', 'valor_predicao_condenacao', 'contagem_partes',\n",
    "       'contagem_assuntos_cnj', 'orgao_julgador_orgao', 'dt_data_decisao',\n",
    "       'hora_decisao', 'dt_data_encerramento', 'hora_encerramento']]"
   ]
  },
  {
   "cell_type": "markdown",
   "id": "81f132f6",
   "metadata": {},
   "source": [
    "### Daqui pra baixo o df será dividido em partes que serão tratadas isolodamentes.\n",
    "\n",
    "- judicializacao geral -> Remoção de colunas que possuem dicionário, que serão tratadas separadaemnete \n",
    "\n",
    "\n",
    "- partes -> Dimensão das partes envolvidas em cada processo. Contém as colunas cd_processo e coluna com dicionario das partes\n",
    "\n",
    "\n",
    "- assuntos cnj -> Dimensão dos assuntos do  CNJ contidos em cada processo. Contém as colunas cd_processo e coluna com dicionario dos assuntos do cnj"
   ]
  },
  {
   "cell_type": "markdown",
   "id": "11a9a781",
   "metadata": {},
   "source": [
    "#### Judicialização geral"
   ]
  },
  {
   "cell_type": "code",
   "execution_count": 12,
   "id": "f57c54fa",
   "metadata": {},
   "outputs": [],
   "source": [
    "# Data frame de judicialização geral\n",
    "df_judicializacao = df_bq_results.drop(columns={\n",
    "    'partes'\n",
    "    ,'assuntos_cnj'\n",
    "})"
   ]
  },
  {
   "cell_type": "code",
   "execution_count": 13,
   "id": "e043f937",
   "metadata": {},
   "outputs": [],
   "source": [
    "# Tratamento da coluna município com as funções definidas e chamadas na importação\n",
    "df_judicializacao['municipio'] = df_judicializacao['municipio'].fillna('Nao Identificado')\n",
    "df_judicializacao['municipio'] = df_judicializacao['municipio'].astype(str)\n",
    "\n",
    "df_judicializacao['municipio'] = df_judicializacao['municipio'].apply(limpar_nome_municipio)\n",
    "df_judicializacao['municipio'] = df_judicializacao['municipio'].apply(identificar_capital)\n",
    "df_judicializacao['municipio'] = df_judicializacao['municipio'].apply(identificar_cidade)"
   ]
  },
  {
   "cell_type": "code",
   "execution_count": 14,
   "id": "ebfca39f",
   "metadata": {},
   "outputs": [],
   "source": [
    "# Tratamento pontual de alguns valores da coluna município  que não foram contemplados no tratamento\n",
    "# Substituindo \"Turmas Recursais Estado Do Rio Grande Do Sul\" por \"Porto Alegre\"\n",
    "df_judicializacao.loc[\n",
    "    df_judicializacao[\"municipio\"] == \"Turmas Recursais Estado Do Rio Grande Do Sul\",\n",
    "    \"municipio\"] = \"Porto Alegre\"\n",
    "\n",
    "# Substituindo \"Leal Fagundes Brasilia\" por \"Brasilia\"\n",
    "df_judicializacao.loc[\n",
    "    df_judicializacao[\"municipio\"] == \"Leal Fagundes Brasilia\",\n",
    "    \"municipio\"] = \"Brasilia\"\n",
    "\n",
    "# Substituindo \"Juizados Especiais De Rio Branco\" por \"Rio Branco\"\n",
    "df_judicializacao.loc[\n",
    "    df_judicializacao[\"municipio\"] == \"Juizados Especiais De Rio Branco\",\n",
    "    \"municipio\"] = \"Rio Branco\"\n"
   ]
  },
  {
   "cell_type": "code",
   "execution_count": 15,
   "id": "0f37e3a4",
   "metadata": {},
   "outputs": [],
   "source": [
    "# Tratamento pontual de alguns valores da coluna uf que não foram contemplados pelas funções\n",
    "# Substituindo \"R5\" por \"CE\"\n",
    "df_judicializacao.loc[\n",
    "    df_judicializacao[\"uf\"] == \"R5\",\n",
    "    \"uf\"] = \"CE\"\n",
    "\n",
    "# Substituindo \"R1\" por \"MG\"\n",
    "df_judicializacao.loc[\n",
    "    df_judicializacao[\"uf\"] == \"R1\",\n",
    "    \"uf\"] = \"MG\""
   ]
  },
  {
   "cell_type": "code",
   "execution_count": 16,
   "id": "bb9b1e93",
   "metadata": {},
   "outputs": [],
   "source": [
    "# Carga em dbt/seed\n",
    "df_judicializacao.to_csv('../../neoway_case/seeds/empresas_judicializacao_geral.csv',sep=',',index=False)"
   ]
  },
  {
   "cell_type": "markdown",
   "id": "10c3db3d",
   "metadata": {},
   "source": [
    "#### dimensão das partes envolvidas nos processos"
   ]
  },
  {
   "cell_type": "code",
   "execution_count": 17,
   "id": "c8bfd5c2",
   "metadata": {},
   "outputs": [],
   "source": [
    "# Data frame das partes\n",
    "df_partes = df_bq_results[df_bq_results.contagem_partes>0][['cd_processo','partes']]"
   ]
  },
  {
   "cell_type": "code",
   "execution_count": 18,
   "id": "5401c5f2",
   "metadata": {},
   "outputs": [],
   "source": [
    "# Expandindo a coluna 'partes' para que cada elemento da lista crie uma nova linha\n",
    "df_partes = df_partes.explode('partes')\n",
    "\n",
    "# Extraindo 'nomeNormalizadoNeoway' e 'polo' de cada dicionário em novas colunas\n",
    "df_partes['nomeNormalizadoNeoway'] = df_partes['partes'].apply(lambda x: x['nomeNormalizadoNeoway'] if pd.notnull(x) else None)\n",
    "df_partes['polo'] = df_partes['partes'].apply(lambda x: x['polo'] if pd.notnull(x) else None)\n",
    "\n",
    "# Removendo a coluna 'partes' original, agora desnecessária\n",
    "df_partes.drop(columns=['partes'], inplace=True)"
   ]
  },
  {
   "cell_type": "code",
   "execution_count": 19,
   "id": "2cb2988f",
   "metadata": {},
   "outputs": [],
   "source": [
    "# Dropo de partes duplicadas em cada processo\n",
    "df_partes = df_partes.drop_duplicates()"
   ]
  },
  {
   "cell_type": "code",
   "execution_count": 20,
   "id": "2a95f440",
   "metadata": {},
   "outputs": [],
   "source": [
    "# Renomeando coluna para manter o padrão snake case\n",
    "df_partes.rename(columns={\n",
    "    'nomeNormalizadoNeoway':'nome_normalizado_neoway'\n",
    "},inplace=True)"
   ]
  },
  {
   "cell_type": "code",
   "execution_count": 21,
   "id": "39e8c4f3",
   "metadata": {},
   "outputs": [],
   "source": [
    "# Carga em dbt/seed\n",
    "df_partes.to_csv('../../neoway_case/seeds/empresas_judicializacao_partes.csv',sep=',',index=False)"
   ]
  },
  {
   "cell_type": "markdown",
   "id": "ea19a66b",
   "metadata": {},
   "source": [
    "#### dimensão dos assuntos do CNJ de cada processo\n",
    "\n",
    "- a coluna codigoLocal foi ignorada propositalmente devido ao fato de não ser relevante para o prosseguimento do projeto"
   ]
  },
  {
   "cell_type": "code",
   "execution_count": 22,
   "id": "b06cef87",
   "metadata": {},
   "outputs": [],
   "source": [
    "# Data Frame de assuntos do CNJ\n",
    "df_assuntos_cnj = df_bq_results[df_bq_results.contagem_assuntos_cnj>0][['cd_processo','assuntos_cnj']]"
   ]
  },
  {
   "cell_type": "code",
   "execution_count": 23,
   "id": "af439b5d",
   "metadata": {},
   "outputs": [],
   "source": [
    "# Expandindo a coluna 'assuntos_cnj' para que cada elemento da lista crie uma nova linha\n",
    "df_assuntos_cnj = df_assuntos_cnj.explode('assuntos_cnj')\n",
    "\n",
    "# Extraindo 'titulo' e 'codigoCNJ' de cada dicionário em novas colunas\n",
    "df_assuntos_cnj['titulo'] = df_assuntos_cnj['assuntos_cnj'].apply(lambda x: x.get('titulo') if isinstance(x, dict) else None)\n",
    "df_assuntos_cnj['codigo_cnj'] = df_assuntos_cnj['assuntos_cnj'].apply(lambda x: x.get('codigoCNJ') if isinstance(x, dict) else None)\n",
    "# df_assuntos_cnj['codigo_local'] = df_assuntos_cnj['assuntos_cnj'].apply(lambda x: x.get('codigoLocal') if isinstance(x, dict) else None)\n",
    "\n",
    "# Removendo a coluna 'assuntos_cnj' original, agora desnecessária\n",
    "df_assuntos_cnj.drop(columns=['assuntos_cnj'], inplace=True)"
   ]
  },
  {
   "cell_type": "code",
   "execution_count": 24,
   "id": "4de03d9b",
   "metadata": {},
   "outputs": [],
   "source": [
    "# Drop de assuntos duplicados em cada processo\n",
    "df_assuntos_cnj = df_assuntos_cnj.drop_duplicates()"
   ]
  },
  {
   "cell_type": "code",
   "execution_count": 25,
   "id": "24ea935f",
   "metadata": {},
   "outputs": [],
   "source": [
    "# Tratamento de coluna de codigos_cnj preenchendo vazios e mudando tipagem\n",
    "df_assuntos_cnj.codigo_cnj = df_assuntos_cnj.codigo_cnj.fillna(0).astype(int)"
   ]
  },
  {
   "cell_type": "code",
   "execution_count": 26,
   "id": "9af261f8",
   "metadata": {},
   "outputs": [],
   "source": [
    "# Preenchendo valores vazios da coluna titulo\n",
    "df_assuntos_cnj.titulo = df_assuntos_cnj.titulo.fillna('')\n",
    "\n",
    "# Tratamento da coluna titulo com função de harmonização definidas e chamadas na importação\n",
    "df_assuntos_cnj['titulo'] = df_assuntos_cnj['titulo'].apply(remover_acentos_e_maiusculo)"
   ]
  },
  {
   "cell_type": "markdown",
   "id": "ca17b9a3",
   "metadata": {},
   "source": [
    "##### Dados externos CNJ\n",
    "\n",
    "- A fim de harmonizar e enriquecer os dados da tabela de assuntos CNJ, será utilizada uma API dos assuntos do CNJ para melhorar qualidade de preenchimento da tabela "
   ]
  },
  {
   "cell_type": "code",
   "execution_count": 27,
   "id": "3e7cba38",
   "metadata": {},
   "outputs": [],
   "source": [
    "# Requisação para gerar dataframe com codigos do CNJ\n",
    "df_cnj = cnj_dados()"
   ]
  },
  {
   "cell_type": "code",
   "execution_count": 28,
   "id": "da4feb11",
   "metadata": {},
   "outputs": [],
   "source": [
    "# Aplicando função para gerar uma nova coluna com o codigo_pai maximo ao subir na hierarquia de assuntos\n",
    "df_cnj['maior_cod_item_pai'] = df_cnj['cod_item'].apply(lambda x: encontrar_maior_cod_item_pai(df_cnj, x))"
   ]
  },
  {
   "cell_type": "code",
   "execution_count": 29,
   "id": "0f5659ab",
   "metadata": {},
   "outputs": [],
   "source": [
    "# Tratamento de colunas a fim de harmonizar os dados e manter mesma harmonização de df_assuntos_cnj \n",
    "df_cnj.nome = df_cnj.nome.apply(remover_acentos_e_maiusculo)\n",
    "df_cnj.cod_item_pai = df_cnj.cod_item_pai.fillna(0).astype(int)"
   ]
  },
  {
   "cell_type": "code",
   "execution_count": 30,
   "id": "9825d9c2",
   "metadata": {},
   "outputs": [],
   "source": [
    "# Carga em dbt/seed\n",
    "df_cnj.to_csv('../../neoway_case/seeds/codigos_cnj.csv',\n",
    "                      index=False,sep=',')"
   ]
  },
  {
   "cell_type": "markdown",
   "id": "85c59102",
   "metadata": {},
   "source": [
    "##### Enriquecimento de dados da tabela df_assuntos_cnj"
   ]
  },
  {
   "cell_type": "code",
   "execution_count": 31,
   "id": "9dfa17ab",
   "metadata": {},
   "outputs": [],
   "source": [
    "'''\n",
    "    Função para preencher código CNJ quando o assunto de  dos dois dataframe é \n",
    "    exatamente igual e só há um único código correspondente em df_cnj para esse assunto.\n",
    "    Dessa forma, se garante o preenchimento do código correto e evita-se relacionamentos 1:N\n",
    "'''\n",
    "\n",
    "# Sem filtro de situação\n",
    "df_assuntos_cnj = preencher_codigos(df_cnj, df_assuntos_cnj)\n",
    "# Com filtro de situação 'A' (Ativo)\n",
    "df_assuntos_cnj = preencher_codigos(df_cnj, df_assuntos_cnj, situacao='A')\n",
    "# Com filtro de situação 'I' (Inativo)\n",
    "df_assuntos_cnj = preencher_codigos(df_cnj, df_assuntos_cnj, situacao='I')"
   ]
  },
  {
   "cell_type": "code",
   "execution_count": 32,
   "id": "6cadba13",
   "metadata": {},
   "outputs": [],
   "source": [
    "'''\n",
    "    Função para preencher código CNJ quando o assunto de dos dois dataframe é \n",
    "    exatamente igual, mas há mais de um código para esse assunto em df_cnj.\n",
    "    Nesse caso, se sobe na hierarquia de assuntos e para verificar se \n",
    "    o código da hierarquia máxima é único. Se sim, é aplicado o código desse nível.\n",
    "    Dessa forma, se garante o preenchimento do código correto e evita-se relacionamentos 1:N\n",
    "'''\n",
    "\n",
    "# Sem filtro de situação\n",
    "df_assuntos_cnj = preencher_codigos_hierarquicos(df_cnj, df_assuntos_cnj)\n",
    "# Com filtro de situação 'A' (Ativo)\n",
    "df_assuntos_cnj = preencher_codigos_hierarquicos(df_cnj, df_assuntos_cnj, situacao='A')\n",
    "# Com filtro de situação 'I' (Inativo)\n",
    "df_assuntos_cnj = preencher_codigos_hierarquicos(df_cnj, df_assuntos_cnj, situacao='I')"
   ]
  },
  {
   "cell_type": "code",
   "execution_count": 33,
   "id": "dfe6b1d1",
   "metadata": {},
   "outputs": [
    {
     "data": {
      "text/plain": [
       "(6968, 3)"
      ]
     },
     "execution_count": 33,
     "metadata": {},
     "output_type": "execute_result"
    }
   ],
   "source": [
    "df_assuntos_cnj[df_assuntos_cnj.codigo_cnj==0].shape"
   ]
  },
  {
   "cell_type": "markdown",
   "id": "ac46a28d",
   "metadata": {},
   "source": [
    "preenchendo os codigos mais comumns dos titulos que possuem valor = 0 "
   ]
  },
  {
   "cell_type": "code",
   "execution_count": 34,
   "id": "07b3a486",
   "metadata": {},
   "outputs": [
    {
     "data": {
      "text/plain": [
       "(5252, 3)"
      ]
     },
     "execution_count": 34,
     "metadata": {},
     "output_type": "execute_result"
    }
   ],
   "source": [
    "'''\n",
    "    Bloco de código para preencher os valores ainda nulos com o código mais frequente\n",
    "    do próprio df_assuntos_cnj quando houver correspondência do título nessa tabela\n",
    "'''\n",
    "\n",
    "lst_assuntos = df_assuntos_cnj[df_assuntos_cnj.codigo_cnj==0].titulo.unique()\n",
    "# Para cada título, encontrar o valor mais comum (mode) do codigo_cnj\n",
    "for titulo in lst_assuntos:\n",
    "    # Encontrar o mode do codigo_cnj para o título específico\n",
    "    mode_codigo = df_assuntos_cnj[\n",
    "        (df_assuntos_cnj.titulo == titulo) & (df_assuntos_cnj.codigo_cnj != 0)\n",
    "    ]['codigo_cnj'].mode()\n",
    "    \n",
    "    # Se houver um valor mais comum, preenchê-lo nos registros onde codigo_cnj é 0\n",
    "    if not mode_codigo.empty:\n",
    "        df_assuntos_cnj.loc[\n",
    "            (df_assuntos_cnj.titulo == titulo) & (df_assuntos_cnj.codigo_cnj == 0), 'codigo_cnj'\n",
    "        ] = mode_codigo[0]\n",
    "\n",
    "df_assuntos_cnj[df_assuntos_cnj.codigo_cnj==0].shape"
   ]
  },
  {
   "cell_type": "markdown",
   "id": "2b289ee9",
   "metadata": {},
   "source": []
  },
  {
   "cell_type": "code",
   "execution_count": 35,
   "id": "995b7d0b",
   "metadata": {},
   "outputs": [],
   "source": [
    "'''\n",
    "    Aplicando função de limpeza e harmonização nos títulos que ainda estão sem um código cnj.\n",
    "    As etapas acima serão repetidas na exata mesma ordem depois desse tratamento feito.\n",
    "'''\n",
    "\n",
    "mask = (df_assuntos_cnj.codigo_cnj == 0)\n",
    "df_assuntos_cnj.loc[mask,'titulo'] = df_assuntos_cnj.loc[mask, 'titulo'].apply(limpar_assunto)\n"
   ]
  },
  {
   "cell_type": "code",
   "execution_count": 36,
   "id": "04d49f97",
   "metadata": {},
   "outputs": [],
   "source": [
    "'''\n",
    "    Função para preencher código CNJ quando o assunto de  dos dois dataframe é \n",
    "    exatamente igual e só há um único código correspondente em df_cnj para esse assunto.\n",
    "    Dessa forma, se garante o preenchimento do código correto e evita-se relacionamentos 1:N\n",
    "'''\n",
    "\n",
    "# Sem filtro de situação\n",
    "df_assuntos_cnj = preencher_codigos(df_cnj, df_assuntos_cnj)\n",
    "# Com filtro de situação 'A' (Ativo)\n",
    "df_assuntos_cnj = preencher_codigos(df_cnj, df_assuntos_cnj, situacao='A')\n",
    "# Com filtro de situação 'I' (Inativo)\n",
    "df_assuntos_cnj = preencher_codigos(df_cnj, df_assuntos_cnj, situacao='I')"
   ]
  },
  {
   "cell_type": "code",
   "execution_count": 37,
   "id": "aede3a2a",
   "metadata": {},
   "outputs": [
    {
     "data": {
      "text/plain": [
       "(3228, 3)"
      ]
     },
     "execution_count": 37,
     "metadata": {},
     "output_type": "execute_result"
    }
   ],
   "source": [
    "df_assuntos_cnj[df_assuntos_cnj.codigo_cnj==0].shape"
   ]
  },
  {
   "cell_type": "code",
   "execution_count": 38,
   "id": "cefc09a3",
   "metadata": {},
   "outputs": [],
   "source": [
    "'''\n",
    "    Função para preencher código CNJ quando o assunto de dos dois dataframe é \n",
    "    exatamente igual, mas há mais de um código para esse assunto em df_cnj.\n",
    "    Nesse caso, se sobe na hierarquia de assuntos e para verificar se \n",
    "    o código da hierarquia máxima é único. Se sim, é aplicado o código desse nível.\n",
    "    Dessa forma, se garante o preenchimento do código correto e evita-se relacionamentos 1:N\n",
    "'''\n",
    "# Sem filtro de situação\n",
    "df_assuntos_cnj = preencher_codigos_hierarquicos(df_cnj, df_assuntos_cnj)\n",
    "# Com filtro de situação 'A' (Ativo)\n",
    "df_assuntos_cnj = preencher_codigos_hierarquicos(df_cnj, df_assuntos_cnj, situacao='A')\n",
    "# Com filtro de situação 'I' (Inativo)\n",
    "df_assuntos_cnj = preencher_codigos_hierarquicos(df_cnj, df_assuntos_cnj, situacao='I')"
   ]
  },
  {
   "cell_type": "code",
   "execution_count": 39,
   "id": "29fec233",
   "metadata": {},
   "outputs": [
    {
     "data": {
      "text/plain": [
       "(2485, 3)"
      ]
     },
     "execution_count": 39,
     "metadata": {},
     "output_type": "execute_result"
    }
   ],
   "source": [
    "df_assuntos_cnj[df_assuntos_cnj.codigo_cnj==0].shape"
   ]
  },
  {
   "cell_type": "code",
   "execution_count": 40,
   "id": "70bc971f",
   "metadata": {},
   "outputs": [
    {
     "data": {
      "text/plain": [
       "(2342, 3)"
      ]
     },
     "execution_count": 40,
     "metadata": {},
     "output_type": "execute_result"
    }
   ],
   "source": [
    "'''\n",
    "    Bloco de código para preencher os valores ainda nulos com o código mais frequente\n",
    "    do próprio df_assuntos_cnj quando houver correspondência do título nessa tabela\n",
    "'''\n",
    "\n",
    "lst_assuntos = df_assuntos_cnj[df_assuntos_cnj.codigo_cnj==0].titulo.unique()\n",
    "# Para cada título, encontrar o valor mais comum (mode) do codigo_cnj\n",
    "for titulo in lst_assuntos:\n",
    "    # Encontrar o mode do codigo_cnj para o título específico\n",
    "    mode_codigo = df_assuntos_cnj[\n",
    "        (df_assuntos_cnj.titulo == titulo) & (df_assuntos_cnj.codigo_cnj != 0)\n",
    "    ]['codigo_cnj'].mode()\n",
    "    \n",
    "    # Se houver um valor mais comum, preenchê-lo nos registros onde codigo_cnj é 0\n",
    "    if not mode_codigo.empty:\n",
    "        df_assuntos_cnj.loc[\n",
    "            (df_assuntos_cnj.titulo == titulo) & (df_assuntos_cnj.codigo_cnj == 0), 'codigo_cnj'\n",
    "        ] = mode_codigo[0]\n",
    "\n",
    "df_assuntos_cnj[df_assuntos_cnj.codigo_cnj==0].shape"
   ]
  },
  {
   "cell_type": "code",
   "execution_count": 41,
   "id": "d00323a0",
   "metadata": {},
   "outputs": [],
   "source": [
    "# removendo titulos apos todos os tratamentos e dropando assuntos duplicados por processo\n",
    "df_assuntos_cnj = df_assuntos_cnj[['cd_processo','codigo_cnj']].drop_duplicates()"
   ]
  },
  {
   "cell_type": "code",
   "execution_count": 42,
   "id": "0fb9662c",
   "metadata": {},
   "outputs": [],
   "source": [
    "# Carga em dbt/seed\n",
    "df_assuntos_cnj.to_csv('../../neoway_case/seeds/empresas_judicializacao_assuntos_cnj.csv',\n",
    "                      index=False,sep=',')"
   ]
  }
 ],
 "metadata": {
  "hide_input": false,
  "kernelspec": {
   "display_name": "Python 3 (ipykernel)",
   "language": "python",
   "name": "python3"
  },
  "language_info": {
   "codemirror_mode": {
    "name": "ipython",
    "version": 3
   },
   "file_extension": ".py",
   "mimetype": "text/x-python",
   "name": "python",
   "nbconvert_exporter": "python",
   "pygments_lexer": "ipython3",
   "version": "3.10.12"
  }
 },
 "nbformat": 4,
 "nbformat_minor": 5
}
